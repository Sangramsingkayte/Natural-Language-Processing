{
 "cells": [
  {
   "cell_type": "code",
   "execution_count": 1,
   "metadata": {},
   "outputs": [],
   "source": [
    "import nltk"
   ]
  },
  {
   "cell_type": "markdown",
   "metadata": {},
   "source": [
    "#### Tokenization"
   ]
  },
  {
   "cell_type": "code",
   "execution_count": 2,
   "metadata": {},
   "outputs": [],
   "source": [
    "# Tokenization\n",
    "sent_ = \"I am Machine Learning Scientist with over 7+ years Research & Development experience in the field of Natural Language Processing (NLP) and Machine Learning\"\n",
    "tokens_ = nltk.word_tokenize(sent_)"
   ]
  },
  {
   "cell_type": "code",
   "execution_count": 3,
   "metadata": {},
   "outputs": [
    {
     "data": {
      "text/plain": [
       "['I',\n",
       " 'am',\n",
       " 'Machine',\n",
       " 'Learning',\n",
       " 'Scientist',\n",
       " 'with',\n",
       " 'over',\n",
       " '7+',\n",
       " 'years',\n",
       " 'Research',\n",
       " '&',\n",
       " 'Development',\n",
       " 'experience',\n",
       " 'in',\n",
       " 'the',\n",
       " 'field',\n",
       " 'of',\n",
       " 'Natural',\n",
       " 'Language',\n",
       " 'Processing',\n",
       " '(',\n",
       " 'NLP',\n",
       " ')',\n",
       " 'and',\n",
       " 'Machine',\n",
       " 'Learning']"
      ]
     },
     "execution_count": 3,
     "metadata": {},
     "output_type": "execute_result"
    }
   ],
   "source": [
    "tokens_"
   ]
  },
  {
   "cell_type": "markdown",
   "metadata": {},
   "source": [
    "#### Synonyms"
   ]
  },
  {
   "cell_type": "code",
   "execution_count": 17,
   "metadata": {},
   "outputs": [
    {
     "name": "stdout",
     "output_type": "stream",
     "text": [
      "[Synset('dramatic.a.01'), Synset('dramatic.s.02'), Synset('dramatic.a.03'), Synset('dramatic.a.04')]\n"
     ]
    }
   ],
   "source": [
    "# Make sure to install wordnet, if not done already so\n",
    "# import nltk\n",
    "# nltk.download('wordnet')\n",
    "\n",
    "# Synonyms\n",
    "from nltk.corpus import wordnet\n",
    "\n",
    "word_ = wordnet.synsets(\"dramatic\")\n",
    "print(word_)"
   ]
  },
  {
   "cell_type": "code",
   "execution_count": 18,
   "metadata": {},
   "outputs": [
    {
     "name": "stdout",
     "output_type": "stream",
     "text": [
      "suitable to or characteristic of drama\n",
      "sensational in appearance or thrilling in effect\n",
      "pertaining to or characteristic of drama\n",
      "used of a singer or singing voice that is marked by power and expressiveness and a histrionic or theatrical style\n"
     ]
    }
   ],
   "source": [
    "print(word_[0].definition())      # Printing the meaning along of each of the synonyms\n",
    "print(word_[1].definition())\n",
    "print(word_[2].definition())\n",
    "print(word_[3].definition())"
   ]
  },
  {
   "cell_type": "markdown",
   "metadata": {},
   "source": [
    "#### Stemming"
   ]
  },
  {
   "cell_type": "code",
   "execution_count": 9,
   "metadata": {},
   "outputs": [
    {
     "name": "stdout",
     "output_type": "stream",
     "text": [
      "i am machine learning scientist with over 7+ years research & development experience in the field of natural language processing (nlp) and machine learn\n"
     ]
    }
   ],
   "source": [
    "# Stemming\n",
    "from nltk.stem import PorterStemmer\n",
    "stemmer = PorterStemmer()              # Create the stemmer object\n",
    "print(stemmer.stem(\"I am Machine Learning Scientist with over 7+ years Research & Development experience in the field of Natural Language Processing (NLP) and Machine Learning\"))"
   ]
  },
  {
   "cell_type": "markdown",
   "metadata": {},
   "source": [
    "#### Lemmatization"
   ]
  },
  {
   "cell_type": "code",
   "execution_count": 10,
   "metadata": {},
   "outputs": [
    {
     "name": "stdout",
     "output_type": "stream",
     "text": [
      "I am Machine Learning Scientist with over 7+ years Research & Development experience in the field of Natural Language Processing (NLP) and Machine Learning\n"
     ]
    }
   ],
   "source": [
    "#Lemmatization \n",
    "from nltk.stem import WordNetLemmatizer\n",
    "lemmatizer = WordNetLemmatizer()         # Create the Lemmatizer object\n",
    "print(lemmatizer.lemmatize(\"I am Machine Learning Scientist with over 7+ years Research & Development experience in the field of Natural Language Processing (NLP) and Machine Learning\"))"
   ]
  },
  {
   "cell_type": "code",
   "execution_count": null,
   "metadata": {},
   "outputs": [],
   "source": []
  }
 ],
 "metadata": {
  "kernelspec": {
   "display_name": "Python 3",
   "language": "python",
   "name": "python3"
  },
  "language_info": {
   "codemirror_mode": {
    "name": "ipython",
    "version": 3
   },
   "file_extension": ".py",
   "mimetype": "text/x-python",
   "name": "python",
   "nbconvert_exporter": "python",
   "pygments_lexer": "ipython3",
   "version": "3.7.3"
  }
 },
 "nbformat": 4,
 "nbformat_minor": 2
}
