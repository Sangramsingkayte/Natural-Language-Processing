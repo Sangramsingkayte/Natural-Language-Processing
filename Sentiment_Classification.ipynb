{
 "cells": [
  {
   "cell_type": "code",
   "execution_count": null,
   "metadata": {},
   "outputs": [],
   "source": []
  },
  {
   "cell_type": "code",
   "execution_count": null,
   "metadata": {},
   "outputs": [],
   "source": [
    "# Importing TensorFlow and IMDb dataset from keras library\n",
    "from keras.datasets import imdb\n",
    "import tensorflow as tf"
   ]
  },
  {
   "cell_type": "code",
   "execution_count": null,
   "metadata": {},
   "outputs": [],
   "source": [
    "# Checking TensorFlow version\n",
    "print(tf.__version__)"
   ]
  },
  {
   "cell_type": "code",
   "execution_count": null,
   "metadata": {},
   "outputs": [],
   "source": [
    "from __future__ import print_function"
   ]
  },
  {
   "cell_type": "code",
   "execution_count": null,
   "metadata": {},
   "outputs": [],
   "source": [
    "from tensorflow.python.ops import rnn, rnn_cell\n",
    "import numpy as np\n",
    "import pandas as pd\n",
    "import matplotlib.pyplot as plt\n",
    "%matplotlib inline"
   ]
  },
  {
   "cell_type": "code",
   "execution_count": null,
   "metadata": {},
   "outputs": [],
   "source": [
    "# Creating Train and Test datasets from labeled movie reviews \n",
    "(X_train, y_train), (X_test, y_test) = imdb.load_data(path=\"imdb_full.pkl\",\n",
    "                                                      num_words=None,\n",
    "                                                      skip_top=0,\n",
    "                                                      maxlen=None,\n",
    "                                                      seed=113,\n",
    "                                                      start_char=1,\n",
    "                                                      oov_char=2,\n",
    "                                                      index_from=3)"
   ]
  },
  {
   "cell_type": "code",
   "execution_count": null,
   "metadata": {},
   "outputs": [],
   "source": []
  },
  {
   "cell_type": "code",
   "execution_count": null,
   "metadata": {},
   "outputs": [],
   "source": [
    "t = [item for sublist in X_train for item in sublist]\n",
    "vocabulary = len(set(t))+1  "
   ]
  },
  {
   "cell_type": "code",
   "execution_count": null,
   "metadata": {},
   "outputs": [],
   "source": [
    "a = [len(x) for x in X_train]\n",
    "plt.plot(a)"
   ]
  },
  {
   "cell_type": "code",
   "execution_count": null,
   "metadata": {},
   "outputs": [],
   "source": [
    "max_length = 200 # specifying the max length of the sequence in the sentence\n",
    "x_filter = []\n",
    "y_filter = []\n",
    "\n",
    "# if the selected length is lesser than the specified max_length, 200, then appending padding (0), else only selecting\n",
    "#       desired length only from sentence\n",
    "for i in range(len(X_train)):\n",
    "    if len(X_train[i])<max_length:\n",
    "        a = len(X_train[i])\n",
    "        X_train[i] = X_train[i] + [0] * (max_length - a)\n",
    "        x_filter.append(X_train[i])\n",
    "        y_filter.append(y_train[i])\n",
    "    elif len(X_train[i])>max_length:\n",
    "        X_train[i] = X_train[i][0:max_length]\n"
   ]
  },
  {
   "cell_type": "code",
   "execution_count": null,
   "metadata": {},
   "outputs": [],
   "source": [
    "#declaring the hyper params\n",
    "embedding_size = 100   # word vector size for initializing the word embeddings\n",
    "n_hidden = 200\n",
    "learning_rate = 0.06\n",
    "training_iters = 100000\n",
    "batch_size = 32\n",
    "beta =0.0001"
   ]
  },
  {
   "cell_type": "code",
   "execution_count": null,
   "metadata": {},
   "outputs": [],
   "source": [
    "n_steps = max_length #timestepswords\n",
    "n_classes = 2 # 0/1 : binary classification for negative and positive reviews\n",
    "da = 350    #hyper-parameter : Self-attention MLP has hidden layer with da units\n",
    "r = 30      # count of different parts to be extracted from sentence (= # rows in matrix embedding)\n",
    "display_step =10 \n",
    "hidden_units = 3000"
   ]
  },
  {
   "cell_type": "code",
   "execution_count": null,
   "metadata": {},
   "outputs": [],
   "source": [
    "y_train = np.asarray(pd.get_dummies(y_filter))\n",
    "X_train = np.asarray([np.asarray(g) for g in x_filter])"
   ]
  },
  {
   "cell_type": "code",
   "execution_count": null,
   "metadata": {},
   "outputs": [],
   "source": [
    "logs_path = './recent_logs/'"
   ]
  },
  {
   "cell_type": "code",
   "execution_count": null,
   "metadata": {},
   "outputs": [],
   "source": [
    "class DataIterator:\n",
    "    def __init__(self, data1,data2, batch_size):\n",
    "        self.data1 = data1\n",
    "        self.data2 = data2\n",
    "        self.batch_size = batch_size\n",
    "        self.iter = self.make_random_iter()\n",
    "        \n",
    "    def next_batch(self):\n",
    "        try:\n",
    "            idxs = next(self.iter)\n",
    "        except StopIteration:\n",
    "            self.iter = self.make_random_iter()\n",
    "            idxs = next(self.iter)\n",
    "        X =[self.data1[i] for i in idxs]\n",
    "        Y =[self.data2[i] for i in idxs]\n",
    "        \n",
    "        X = np.array(X)\n",
    "        Y = np.array(Y)\n",
    "        return X, Y\n",
    "\n",
    "    def make_random_iter(self):\n",
    "        splits = np.arange(self.batch_size, len(self.data1), self.batch_size)\n",
    "        it = np.split(np.random.permutation(range(len(self.data1))), splits)[:-1]\n",
    "        return iter(it)\n"
   ]
  },
  {
   "cell_type": "code",
   "execution_count": null,
   "metadata": {},
   "outputs": [],
   "source": []
  },
  {
   "cell_type": "code",
   "execution_count": null,
   "metadata": {},
   "outputs": [],
   "source": [
    "############ Graph Creation ################      \n",
    "\n",
    "# TF Graph Input\n",
    "with tf.name_scope(\"weights\"):\n",
    "     Win  = tf.Variable(tf.random_uniform([n_hidden*r, hidden_units],-1/np.sqrt(n_hidden),1/np.sqrt(n_hidden)), name='W-input')\n",
    "     Wout = tf.Variable(tf.random_uniform([hidden_units, n_classes],-1/np.sqrt(hidden_units),1/np.sqrt(hidden_units)), name='W-out')\n",
    "     Ws1  = tf.Variable(tf.random_uniform([da,n_hidden],-1/np.sqrt(da),1/np.sqrt(da)), name='Ws1')\n",
    "     Ws2  = tf.Variable(tf.random_uniform([r,da],-1/np.sqrt(r),1/np.sqrt(r)), name='Ws2')"
   ]
  },
  {
   "cell_type": "code",
   "execution_count": null,
   "metadata": {},
   "outputs": [],
   "source": [
    "with tf.name_scope(\"biases\"):            \n",
    "    biasesout = tf.Variable(tf.random_normal([n_classes]), name='biases-out')\n",
    "    biasesin  = tf.Variable(tf.random_normal([hidden_units]), name='biases-in')"
   ]
  },
  {
   "cell_type": "code",
   "execution_count": null,
   "metadata": {},
   "outputs": [],
   "source": []
  },
  {
   "cell_type": "code",
   "execution_count": null,
   "metadata": {},
   "outputs": [],
   "source": [
    "with tf.name_scope('input'):\n",
    "    x = tf.placeholder(\"int32\", [32,max_length], name='x-input')\n",
    "    y = tf.placeholder(\"int32\", [32, 2], name='y-input')\n"
   ]
  },
  {
   "cell_type": "code",
   "execution_count": null,
   "metadata": {},
   "outputs": [],
   "source": [
    "with tf.name_scope('embedding'):\n",
    "    embeddings = tf.Variable(tf.random_uniform([vocabulary, embedding_size],-1, 1), name='embeddings')\n",
    "    embed = tf.nn.embedding_lookup(embeddings,x)\n"
   ]
  },
  {
   "cell_type": "code",
   "execution_count": null,
   "metadata": {},
   "outputs": [],
   "source": [
    "\n",
    "def length(sequence):\n",
    "    # Computing maximum of elements across dimensions of a tensor\n",
    "    used = tf.sign(tf.reduce_max(tf.abs(sequence), reduction_indices=2))   \n",
    "    \n",
    "    length = tf.reduce_sum(used, reduction_indices=1)\n",
    "    length = tf.cast(length, tf.int32)\n",
    "    return length"
   ]
  },
  {
   "cell_type": "code",
   "execution_count": null,
   "metadata": {},
   "outputs": [],
   "source": [
    "with tf.variable_scope('forward',reuse=True):\n",
    "        lstm_fw_cell = rnn_cell.BasicLSTMCell(n_hidden)"
   ]
  },
  {
   "cell_type": "code",
   "execution_count": null,
   "metadata": {},
   "outputs": [],
   "source": [
    "with tf.name_scope('model'):  \n",
    "    outputs, states = rnn.dynamic_rnn(lstm_fw_cell,embed,sequence_length=length(embed),dtype=tf.float32,time_major=False)    \n",
    "    # in the next step we multiply the hidden-vec matrix with the Ws1 by reshaping \n",
    "    h = tf.nn.tanh(tf.transpose(tf.reshape(tf.matmul(Ws1,tf.reshape(outputs,[n_hidden,batch_size*n_steps])), \n",
    "                                           [da,batch_size,n_steps]),[1,0,2]))\n",
    "    # in this step we multiply the generated matrix with Ws2\n",
    "    a = tf.reshape(tf.matmul(Ws2,tf.reshape(h,[da,batch_size*n_steps])),[batch_size,r,n_steps])\n",
    "    def fn3(a,x):\n",
    "            return tf.nn.softmax(x)\n",
    "    h3 = tf.scan(fn3,a) "
   ]
  },
  {
   "cell_type": "code",
   "execution_count": null,
   "metadata": {},
   "outputs": [],
   "source": [
    "with tf.name_scope('flattening'):\n",
    "    # here we again multiply(batch) of the generated batch with the same hidden matrix\n",
    "    h4 = tf.matmul(h3,outputs)\n",
    "    # flattening the output embedded matrix\n",
    "    last = tf.reshape(h4,[-1,r*n_hidden])\n"
   ]
  },
  {
   "cell_type": "code",
   "execution_count": null,
   "metadata": {},
   "outputs": [],
   "source": [
    "with tf.name_scope('MLP'):\n",
    "    tf.nn.dropout(last,.5, noise_shape=None, seed=None, name=None)\n",
    "    pred1 = tf.nn.sigmoid(tf.matmul(last,Win)+biasesin)\n",
    "    pred  = tf.matmul(pred1, Wout) + biasesout"
   ]
  },
  {
   "cell_type": "code",
   "execution_count": null,
   "metadata": {},
   "outputs": [],
   "source": [
    "# Define loss and optimizer\n",
    "with tf.name_scope('cross'):\n",
    "    cost = tf.reduce_mean(tf.nn.softmax_cross_entropy_with_logits(logits =pred, labels = y) + beta*tf.nn.l2_loss(Ws2) )\n"
   ]
  },
  {
   "cell_type": "code",
   "execution_count": null,
   "metadata": {},
   "outputs": [],
   "source": [
    "with tf.name_scope('train'):\n",
    "    optimizer = tf.train.AdamOptimizer(learning_rate=learning_rate)\n",
    "    gvs = optimizer.compute_gradients(cost)\n",
    "    capped_gvs = [(tf.clip_by_norm(grad,0.5), var) for grad, var in gvs]\n",
    "    optimizer.apply_gradients(capped_gvs)\n",
    "    optimized = optimizer.minimize(cost)"
   ]
  },
  {
   "cell_type": "code",
   "execution_count": null,
   "metadata": {},
   "outputs": [],
   "source": [
    "# Evaluate model\n",
    "with tf.name_scope('Accuracy'):\n",
    "    correct_pred = tf.equal(tf.argmax(pred,1), tf.argmax(y,1))\n",
    "    accuracy     = tf.reduce_mean(tf.cast(correct_pred, tf.float32))"
   ]
  },
  {
   "cell_type": "code",
   "execution_count": null,
   "metadata": {},
   "outputs": [],
   "source": [
    "tf.summary.scalar(\"cost\", cost)\n",
    "tf.summary.scalar(\"accuracy\", accuracy)"
   ]
  },
  {
   "cell_type": "code",
   "execution_count": null,
   "metadata": {},
   "outputs": [],
   "source": [
    "# merge all summaries into a single \"summary operation\" which we can execute in a session \n",
    "summary_op =tf.summary.merge_all()"
   ]
  },
  {
   "cell_type": "code",
   "execution_count": null,
   "metadata": {},
   "outputs": [],
   "source": [
    "# Initializing the variables\n",
    "train_iter = DataIterator(X_train,y_train, batch_size)    \n",
    "init = tf.global_variables_initializer()\n",
    "\n",
    "# This could give warning if in case the required port is being used already\n",
    "# Running the command again or releasing the port before the subsequent run should solve the purpose"
   ]
  },
  {
   "cell_type": "code",
   "execution_count": null,
   "metadata": {},
   "outputs": [],
   "source": []
  },
  {
   "cell_type": "code",
   "execution_count": null,
   "metadata": {},
   "outputs": [],
   "source": [
    "with tf.Session() as sess:\n",
    "    sess.run(init)\n",
    "    # Creating log file writer object\n",
    "    writer = tf.summary.FileWriter(logs_path, graph=tf.get_default_graph())\n",
    "    step = 1\n",
    "    \n",
    "    # Keep training until reach max iterations\n",
    "    while step * batch_size < training_iters:\n",
    "        batch_x, batch_y = train_iter.next_batch()\n",
    "        sess.run(optimized, feed_dict={x: batch_x, y: batch_y})\n",
    "        # Executing the summary operation in the session\n",
    "        summary = sess.run(summary_op, feed_dict={x: batch_x, y: batch_y})\n",
    "        # Writing the values in log file using the FileWriter object created above\n",
    "        writer.add_summary(summary,  step*batch_size)\n",
    "        if step % display_step == 2:\n",
    "            # Calculate batch accuracy\n",
    "            acc = sess.run(accuracy, feed_dict={x: batch_x, y: batch_y})\n",
    "            # Calculate batch loss\n",
    "            loss = sess.run(cost, feed_dict={x: batch_x, y: batch_y})\n",
    "            print (\"Iter \" + str(step*batch_size) + \\\n",
    "                   \", Minibatch Loss= \" + \"{:.6f}\".format(loss) + \\\n",
    "                   \", Training Accuracy= \" + \"{:.2f}\".format(acc*100) + \"%\")\n",
    "        step += 1\n",
    "    print (\"Optimization Finished!\")"
   ]
  }
 ],
 "metadata": {
  "kernelspec": {
   "display_name": "Python 3",
   "language": "python",
   "name": "python3"
  },
  "language_info": {
   "codemirror_mode": {
    "name": "ipython",
    "version": 3
   },
   "file_extension": ".py",
   "mimetype": "text/x-python",
   "name": "python",
   "nbconvert_exporter": "python",
   "pygments_lexer": "ipython3",
   "version": "3.7.3"
  }
 },
 "nbformat": 4,
 "nbformat_minor": 2
}
